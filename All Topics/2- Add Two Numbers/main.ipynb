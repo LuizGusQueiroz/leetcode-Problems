{
 "cells": [
  {
   "cell_type": "code",
   "outputs": [],
   "source": [
    "# Definition for singly-linked list.\n",
    "class ListNode:\n",
    "    def __init__(self, val=0, next=None):\n",
    "        self.val = val\n",
    "        self.next = next"
   ],
   "metadata": {
    "collapsed": false,
    "ExecuteTime": {
     "end_time": "2024-04-24T18:33:21.048877Z",
     "start_time": "2024-04-24T18:33:21.034660Z"
    }
   },
   "id": "7e63d5871743a037",
   "execution_count": 1
  },
  {
   "cell_type": "code",
   "execution_count": 2,
   "id": "initial_id",
   "metadata": {
    "collapsed": true,
    "ExecuteTime": {
     "end_time": "2024-04-24T18:33:21.064999Z",
     "start_time": "2024-04-24T18:33:21.049940Z"
    }
   },
   "outputs": [],
   "source": [
    "def addTwoNumbers(self, l1: ListNode, l2: ListNode) -> ListNode:\n",
    "    # Converte as listas encadeadas para objetos do tipo List\n",
    "    item = l1\n",
    "    l1 = list()\n",
    "    while item is not None:\n",
    "        l1.append(item.val)\n",
    "        item = item.next\n",
    "        \n",
    "    item = l2\n",
    "    l2 = list()\n",
    "    while item is not None:\n",
    "        l2.append(item.val)\n",
    "        item = item.next\n",
    "    \n",
    "    # Inverte as listas e as convertem para string\n",
    "    l1 = ''.join(map(str, l1[::-1]))\n",
    "    l2 = ''.join(map(str, l2[::-1]))\n",
    "    \n",
    "    # Converte as strings para int e as soma\n",
    "    answer = int(l1) + int(l2)\n",
    "    # Converte a soma para uma list de inteiros\n",
    "    answer = list(map(int, str(answer)))\n",
    "    # Cria uma lista encadeada a partir da lista de inteiros\n",
    "    first = ListNode(answer[-1])\n",
    "    for i in range(len(answer)-1, 0, -1):\n",
    "        new_node = ListNode(answer[i-1])\n",
    "        if i == len(answer)-1:\n",
    "            first.next = new_node\n",
    "            node = new_node\n",
    "        else:\n",
    "            node.next = new_node\n",
    "            node = new_node\n",
    "    \n",
    "    return first"
   ]
  },
  {
   "cell_type": "code",
   "outputs": [],
   "source": [],
   "metadata": {
    "collapsed": false,
    "ExecuteTime": {
     "end_time": "2024-04-24T18:33:28.044041Z",
     "start_time": "2024-04-24T18:33:28.040454Z"
    }
   },
   "id": "b801ea8e1f49e5d0",
   "execution_count": 3
  }
 ],
 "metadata": {
  "kernelspec": {
   "display_name": "Python 3",
   "language": "python",
   "name": "python3"
  },
  "language_info": {
   "codemirror_mode": {
    "name": "ipython",
    "version": 2
   },
   "file_extension": ".py",
   "mimetype": "text/x-python",
   "name": "python",
   "nbconvert_exporter": "python",
   "pygments_lexer": "ipython2",
   "version": "2.7.6"
  }
 },
 "nbformat": 4,
 "nbformat_minor": 5
}
