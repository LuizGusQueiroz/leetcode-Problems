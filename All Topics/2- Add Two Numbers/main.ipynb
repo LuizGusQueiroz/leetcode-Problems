{
 "cells": [
  {
   "cell_type": "code",
   "outputs": [],
   "source": [
    "# Definition for singly-linked list.\n",
    "class ListNode:\n",
    "    def __init__(self, val=0, next=None):\n",
    "        self.val = val\n",
    "        self.next = next"
   ],
   "metadata": {
    "collapsed": false,
    "is_executing": true
   },
   "id": "7e63d5871743a037"
  },
  {
   "cell_type": "code",
   "execution_count": null,
   "id": "initial_id",
   "metadata": {
    "collapsed": true
   },
   "outputs": [],
   "source": [
    "def addTwoNumbers(self, l1: ListNode, l2: ListNode) -> ListNode:\n",
    "    # Converte as listas encadeadas para objetos do tipo List\n",
    "    item = l1\n",
    "    l1 = list()\n",
    "    while item is not None:\n",
    "        l1.append(item.val)\n",
    "        item = item.next\n",
    "        \n",
    "    item = l2\n",
    "    l2 = list()\n",
    "    while item is not None:\n",
    "        l2.append(item.val)\n",
    "        item = item.next\n",
    "    \n",
    "    # Inverte as listas e as convertem para string\n",
    "    l1 = ''.join(map(str, l1[::-1]))\n",
    "    l2 = ''.join(map(str, l2[::-1]))\n",
    "    \n",
    "    # Converte as strings para int e as soma\n",
    "    answer = int(l1) + int(l2)\n",
    "    # Converte a soma para uma list de inteiros\n",
    "    answer = list(map(int, str(answer)))\n",
    "    # Cria uma lista encadeada a partir da lista de inteiros\n",
    "    first = ListNode(answer[-1])\n",
    "    for i in range(len(answer)-1, 0, -1):\n",
    "        new_node = ListNode(answer[i-1])\n",
    "        if i == len(answer)-1:\n",
    "            first.next = new_node\n",
    "            node = new_node\n",
    "        else:\n",
    "            node.next = new_node\n",
    "            node = new_node\n",
    "    \n",
    "    return first"
   ]
  }
 ],
 "metadata": {
  "kernelspec": {
   "display_name": "Python 3",
   "language": "python",
   "name": "python3"
  },
  "language_info": {
   "codemirror_mode": {
    "name": "ipython",
    "version": 2
   },
   "file_extension": ".py",
   "mimetype": "text/x-python",
   "name": "python",
   "nbconvert_exporter": "python",
   "pygments_lexer": "ipython2",
   "version": "2.7.6"
  }
 },
 "nbformat": 4,
 "nbformat_minor": 5
}
