{
 "cells": [
  {
   "cell_type": "code",
   "execution_count": 1,
   "id": "initial_id",
   "metadata": {
    "collapsed": true,
    "ExecuteTime": {
     "end_time": "2024-04-24T20:17:31.158332Z",
     "start_time": "2024-04-24T20:17:31.090183Z"
    }
   },
   "outputs": [],
   "source": [
    "class Solution:\n",
    "    def convert(self, s: str, numRows: int) -> str:\n",
    "        if numRows < 2:\n",
    "            return s\n",
    "        mtx = [['']*len(s) for _ in range(numRows)]\n",
    "        idx, row, col = 0, 0, 0\n",
    "        upping = False\n",
    "        while idx < len(s):\n",
    "            mtx[row][col] = s[idx]\n",
    "            if upping:\n",
    "                row -= 1\n",
    "                col += 1\n",
    "                if row == 0:\n",
    "                    upping = False\n",
    "            else: \n",
    "                row += 1\n",
    "                if row == numRows-1:\n",
    "                    upping = True\n",
    "            idx += 1\n",
    "\n",
    "        conversion = ''\n",
    "        for i in mtx:\n",
    "            conversion += ''.join(i)\n",
    "            \n",
    "        return conversion"
   ]
  },
  {
   "cell_type": "code",
   "outputs": [],
   "source": [],
   "metadata": {
    "collapsed": false,
    "ExecuteTime": {
     "end_time": "2024-04-24T20:17:44.113224Z",
     "start_time": "2024-04-24T20:17:44.109443Z"
    }
   },
   "id": "65a596430c79ba7c",
   "execution_count": 2
  }
 ],
 "metadata": {
  "kernelspec": {
   "display_name": "Python 3",
   "language": "python",
   "name": "python3"
  },
  "language_info": {
   "codemirror_mode": {
    "name": "ipython",
    "version": 2
   },
   "file_extension": ".py",
   "mimetype": "text/x-python",
   "name": "python",
   "nbconvert_exporter": "python",
   "pygments_lexer": "ipython2",
   "version": "2.7.6"
  }
 },
 "nbformat": 4,
 "nbformat_minor": 5
}
