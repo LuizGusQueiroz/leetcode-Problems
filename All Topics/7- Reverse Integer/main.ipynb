{
 "cells": [
  {
   "cell_type": "code",
   "execution_count": null,
   "id": "initial_id",
   "metadata": {
    "collapsed": true,
    "ExecuteTime": {
     "end_time": "2024-04-24T20:54:48.398311Z",
     "start_time": "2024-04-24T20:54:48.391704Z"
    }
   },
   "outputs": [],
   "source": [
    "class Solution:\n",
    "    def reverse(self, x: int) -> int:\n",
    "        negative = x < 0\n",
    "        if negative:\n",
    "            x = -x           \n",
    "            \n",
    "        x = int(str(x)[::-1])\n",
    "        if negative:\n",
    "            x = -x\n",
    "            \n",
    "        if not -2**31 < x < 2**31:\n",
    "            return 0\n",
    "        return x"
   ]
  },
  {
   "cell_type": "code",
   "outputs": [],
   "source": [],
   "metadata": {
    "collapsed": false,
    "ExecuteTime": {
     "end_time": "2024-04-24T20:54:55.476532Z",
     "start_time": "2024-04-24T20:54:55.473778Z"
    }
   },
   "id": "5511c9031893b194",
   "execution_count": 1
  }
 ],
 "metadata": {
  "kernelspec": {
   "display_name": "Python 3",
   "language": "python",
   "name": "python3"
  },
  "language_info": {
   "codemirror_mode": {
    "name": "ipython",
    "version": 2
   },
   "file_extension": ".py",
   "mimetype": "text/x-python",
   "name": "python",
   "nbconvert_exporter": "python",
   "pygments_lexer": "ipython2",
   "version": "2.7.6"
  }
 },
 "nbformat": 4,
 "nbformat_minor": 5
}
