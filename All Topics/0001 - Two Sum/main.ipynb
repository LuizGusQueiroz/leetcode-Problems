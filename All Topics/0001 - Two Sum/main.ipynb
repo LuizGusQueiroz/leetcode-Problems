{
 "cells": [
  {
   "cell_type": "code",
   "outputs": [],
   "source": [
    "from typing import List"
   ],
   "metadata": {
    "collapsed": false,
    "ExecuteTime": {
     "end_time": "2024-04-26T13:58:32.166904Z",
     "start_time": "2024-04-26T13:58:31.903353Z"
    }
   },
   "id": "3495d68a7501469c",
   "execution_count": 10
  },
  {
   "cell_type": "code",
   "outputs": [],
   "source": [
    "class Solution:\n",
    "    def twoSum(self, nums: List[int], target: int) -> List[int]:\n",
    "        n = len(nums)\n",
    "        for i in range(0, n-1):\n",
    "            for j in range(i+1, n):\n",
    "                if nums[i] + nums[j] == target:\n",
    "                    return [i, j]\n",
    "        return[]"
   ],
   "metadata": {
    "collapsed": false,
    "ExecuteTime": {
     "end_time": "2024-04-26T13:58:33.035272Z",
     "start_time": "2024-04-26T13:58:32.963224Z"
    }
   },
   "id": "7900e03610adbb54",
   "execution_count": 11
  },
  {
   "cell_type": "code",
   "outputs": [],
   "source": [
    "s = Solution()"
   ],
   "metadata": {
    "collapsed": false,
    "ExecuteTime": {
     "end_time": "2024-04-26T13:58:34.122491Z",
     "start_time": "2024-04-26T13:58:34.116857Z"
    }
   },
   "id": "3da6b4f617700674",
   "execution_count": 12
  },
  {
   "cell_type": "code",
   "outputs": [
    {
     "data": {
      "text/plain": "[0, 1]"
     },
     "execution_count": 13,
     "metadata": {},
     "output_type": "execute_result"
    }
   ],
   "source": [
    "result = s.twoSum(nums = [2,7,11,15], target = 9)\n",
    "assert result == [0, 1], 'Wrong answer'\n",
    "result"
   ],
   "metadata": {
    "collapsed": false,
    "ExecuteTime": {
     "end_time": "2024-04-26T13:58:34.710090Z",
     "start_time": "2024-04-26T13:58:34.659690Z"
    }
   },
   "id": "b97567437636e723",
   "execution_count": 13
  },
  {
   "cell_type": "code",
   "outputs": [
    {
     "data": {
      "text/plain": "[1, 2]"
     },
     "execution_count": 14,
     "metadata": {},
     "output_type": "execute_result"
    }
   ],
   "source": [
    "result = s.twoSum(nums = [3,2,4], target = 6)\n",
    "assert result == [1, 2], 'Wrong answer'\n",
    "result"
   ],
   "metadata": {
    "collapsed": false,
    "ExecuteTime": {
     "end_time": "2024-04-26T13:58:35.554439Z",
     "start_time": "2024-04-26T13:58:35.525336Z"
    }
   },
   "id": "177cad45b1efbc6a",
   "execution_count": 14
  },
  {
   "cell_type": "code",
   "outputs": [
    {
     "data": {
      "text/plain": "[0, 1]"
     },
     "execution_count": 15,
     "metadata": {},
     "output_type": "execute_result"
    }
   ],
   "source": [
    "result = s.twoSum(nums = [3,3], target = 6)\n",
    "assert result == [0, 1], 'Wrong answer'\n",
    "result"
   ],
   "metadata": {
    "collapsed": false,
    "ExecuteTime": {
     "end_time": "2024-04-26T13:58:37.082637Z",
     "start_time": "2024-04-26T13:58:37.067292Z"
    }
   },
   "id": "11f2fa8f11c8ac79",
   "execution_count": 15
  },
  {
   "cell_type": "code",
   "outputs": [],
   "source": [],
   "metadata": {
    "collapsed": false,
    "ExecuteTime": {
     "end_time": "2024-04-26T13:58:44.254462Z",
     "start_time": "2024-04-26T13:58:44.244425Z"
    }
   },
   "id": "30ee0014a6b3e364",
   "execution_count": 16
  }
 ],
 "metadata": {
  "kernelspec": {
   "display_name": "Python 3",
   "language": "python",
   "name": "python3"
  },
  "language_info": {
   "codemirror_mode": {
    "name": "ipython",
    "version": 2
   },
   "file_extension": ".py",
   "mimetype": "text/x-python",
   "name": "python",
   "nbconvert_exporter": "python",
   "pygments_lexer": "ipython2",
   "version": "2.7.6"
  }
 },
 "nbformat": 4,
 "nbformat_minor": 5
}
