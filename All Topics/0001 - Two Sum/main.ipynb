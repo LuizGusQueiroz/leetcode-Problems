{
 "cells": [
  {
   "cell_type": "code",
   "outputs": [],
   "source": [
    "from typing import List"
   ],
   "metadata": {
    "collapsed": false,
    "ExecuteTime": {
     "end_time": "2024-04-26T13:24:22.854154Z",
     "start_time": "2024-04-26T13:24:22.826379Z"
    }
   },
   "id": "3495d68a7501469c",
   "execution_count": 1
  },
  {
   "cell_type": "code",
   "outputs": [],
   "source": [
    "class Solution:\n",
    "    def twoSum(self, nums: List[int], target: int) -> List[int]:\n",
    "        n = len(nums)\n",
    "        for i in range(0, n-1):\n",
    "            for j in range(i+1, n):\n",
    "                if nums[i] + nums[j] == target:\n",
    "                    return [i, j]\n",
    "        return[]"
   ],
   "metadata": {
    "collapsed": false,
    "ExecuteTime": {
     "end_time": "2024-04-26T13:24:22.876400Z",
     "start_time": "2024-04-26T13:24:22.859160Z"
    }
   },
   "id": "7900e03610adbb54",
   "execution_count": 2
  },
  {
   "cell_type": "code",
   "outputs": [],
   "source": [
    "s = Solution()"
   ],
   "metadata": {
    "collapsed": false
   },
   "id": "3da6b4f617700674"
  },
  {
   "cell_type": "code",
   "outputs": [
    {
     "data": {
      "text/plain": "[0, 1]"
     },
     "execution_count": 7,
     "metadata": {},
     "output_type": "execute_result"
    }
   ],
   "source": [
    "result = s.twoSum(nums = [2,7,11,15], target = 9)\n",
    "assert result == [0, 1], 'Wrong answer'\n",
    "result"
   ],
   "metadata": {
    "collapsed": false,
    "ExecuteTime": {
     "end_time": "2024-04-26T13:35:31.179822Z",
     "start_time": "2024-04-26T13:35:30.205144Z"
    }
   },
   "id": "b97567437636e723",
   "execution_count": 7
  },
  {
   "cell_type": "code",
   "outputs": [
    {
     "data": {
      "text/plain": "[1, 2]"
     },
     "execution_count": 8,
     "metadata": {},
     "output_type": "execute_result"
    }
   ],
   "source": [
    "result = s.twoSum(nums = [3,2,4], target = 6)\n",
    "assert result == [1, 2], 'Wrong answer'\n",
    "result"
   ],
   "metadata": {
    "collapsed": false
   },
   "id": "177cad45b1efbc6a",
   "execution_count": 8
  },
  {
   "cell_type": "code",
   "outputs": [
    {
     "data": {
      "text/plain": "[0, 1]"
     },
     "execution_count": 9,
     "metadata": {},
     "output_type": "execute_result"
    }
   ],
   "source": [
    "result = s.twoSum(nums = [3,3], target = 6)\n",
    "assert result == [0, 1], 'Wrong answer'\n",
    "result"
   ],
   "metadata": {
    "collapsed": false,
    "ExecuteTime": {
     "end_time": "2024-04-26T13:35:31.816404Z",
     "start_time": "2024-04-26T13:35:31.802665Z"
    }
   },
   "id": "11f2fa8f11c8ac79",
   "execution_count": 9
  }
 ],
 "metadata": {
  "kernelspec": {
   "display_name": "Python 3",
   "language": "python",
   "name": "python3"
  },
  "language_info": {
   "codemirror_mode": {
    "name": "ipython",
    "version": 2
   },
   "file_extension": ".py",
   "mimetype": "text/x-python",
   "name": "python",
   "nbconvert_exporter": "python",
   "pygments_lexer": "ipython2",
   "version": "2.7.6"
  }
 },
 "nbformat": 4,
 "nbformat_minor": 5
}
