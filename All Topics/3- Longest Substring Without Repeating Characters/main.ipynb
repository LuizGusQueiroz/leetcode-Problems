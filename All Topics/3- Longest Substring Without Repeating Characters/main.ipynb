{
 "cells": [
  {
   "cell_type": "code",
   "execution_count": 4,
   "id": "initial_id",
   "metadata": {
    "collapsed": true,
    "ExecuteTime": {
     "end_time": "2024-04-24T18:32:19.072642Z",
     "start_time": "2024-04-24T18:32:19.058098Z"
    }
   },
   "outputs": [],
   "source": [
    "class Solution:\n",
    "    def lengthOfLongestSubstring(self, s: str) -> int:\n",
    "        for size in range(len(s), 0, -1):\n",
    "            for i in range(len(s)-size+1):\n",
    "                s_set = set(s[i:i+size])\n",
    "                if len(s_set) == size:\n",
    "                    return size\n",
    "        return 0"
   ]
  },
  {
   "cell_type": "code",
   "outputs": [],
   "source": [],
   "metadata": {
    "collapsed": false,
    "ExecuteTime": {
     "end_time": "2024-04-24T18:32:15.409007Z",
     "start_time": "2024-04-24T18:32:15.406065Z"
    }
   },
   "id": "e7dacd3794eae662",
   "execution_count": 3
  }
 ],
 "metadata": {
  "kernelspec": {
   "display_name": "Python 3",
   "language": "python",
   "name": "python3"
  },
  "language_info": {
   "codemirror_mode": {
    "name": "ipython",
    "version": 2
   },
   "file_extension": ".py",
   "mimetype": "text/x-python",
   "name": "python",
   "nbconvert_exporter": "python",
   "pygments_lexer": "ipython2",
   "version": "2.7.6"
  }
 },
 "nbformat": 4,
 "nbformat_minor": 5
}
