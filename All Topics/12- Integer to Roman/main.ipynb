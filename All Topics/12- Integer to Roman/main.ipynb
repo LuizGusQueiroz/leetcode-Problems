{
 "cells": [
  {
   "cell_type": "code",
   "execution_count": 1,
   "id": "initial_id",
   "metadata": {
    "collapsed": true,
    "ExecuteTime": {
     "end_time": "2024-04-26T12:55:04.084018Z",
     "start_time": "2024-04-26T12:55:04.046472Z"
    }
   },
   "outputs": [],
   "source": [
    "class Solution:\n",
    "    def intToRoman(self, num: int) -> str:\n",
    "        relations = {\n",
    "            'M' : 1000,\n",
    "            'CM':  900,\n",
    "            'D' :  500,\n",
    "            'CD':  400,\n",
    "            'C' :  100,\n",
    "            'XC':   90,\n",
    "            'L' :   50,\n",
    "            'XL':   40,\n",
    "            'X' :   10,\n",
    "            'IX':    9,\n",
    "            'V' :    5,\n",
    "            'IV':    4,\n",
    "            'I' :    1\n",
    "        }\n",
    "        roman = ''\n",
    "        for key in relations:\n",
    "            value = relations[key]\n",
    "            while num >= value:\n",
    "                roman += key\n",
    "                num -= value\n",
    "        return roman"
   ]
  },
  {
   "cell_type": "code",
   "outputs": [],
   "source": [],
   "metadata": {
    "collapsed": false,
    "ExecuteTime": {
     "end_time": "2024-04-26T12:55:17.838070Z",
     "start_time": "2024-04-26T12:55:17.833648Z"
    }
   },
   "id": "24e815e35959b7cd",
   "execution_count": 2
  }
 ],
 "metadata": {
  "kernelspec": {
   "display_name": "Python 3",
   "language": "python",
   "name": "python3"
  },
  "language_info": {
   "codemirror_mode": {
    "name": "ipython",
    "version": 2
   },
   "file_extension": ".py",
   "mimetype": "text/x-python",
   "name": "python",
   "nbconvert_exporter": "python",
   "pygments_lexer": "ipython2",
   "version": "2.7.6"
  }
 },
 "nbformat": 4,
 "nbformat_minor": 5
}
