{
 "cells": [
  {
   "cell_type": "code",
   "execution_count": 1,
   "id": "initial_id",
   "metadata": {
    "collapsed": true,
    "ExecuteTime": {
     "end_time": "2024-04-25T12:05:27.185281Z",
     "start_time": "2024-04-25T12:05:27.158577Z"
    }
   },
   "outputs": [],
   "source": [
    "class Solution:\n",
    "    def myAtoi(self, s: str) -> int:\n",
    "        if not s:\n",
    "            return 0\n",
    "        \n",
    "        lim_inf = -2**31\n",
    "        lim_sup =  2**31 - 1\n",
    "        idx = 0\n",
    "        num = ''\n",
    "        while idx < len(s) and s[idx] == ' ':\n",
    "            idx += 1\n",
    "            \n",
    "        if idx == len(s):\n",
    "            return 0\n",
    "        \n",
    "        if s[idx] == '-':\n",
    "            pos = False\n",
    "            idx += 1\n",
    "        else:\n",
    "            pos = True\n",
    "            if s[idx] == '+':\n",
    "                idx += 1\n",
    "        \n",
    "        while idx < len(s) and \\\n",
    "              s[idx] in ['1', '2', '3', '4', '5', \n",
    "                         '6', '7', '8', '9', '0']:\n",
    "            num += s[idx]\n",
    "            if pos:\n",
    "                if  int(num) >= lim_sup:\n",
    "                    return lim_sup\n",
    "            else:\n",
    "                if -int(num) <= lim_inf:\n",
    "                    return lim_inf\n",
    "            idx += 1\n",
    "        if not num:\n",
    "            return 0\n",
    "        if pos:\n",
    "            return  int(num)\n",
    "        else:\n",
    "            return -int(num)\n",
    "            "
   ]
  },
  {
   "cell_type": "code",
   "outputs": [],
   "source": [],
   "metadata": {
    "collapsed": false,
    "ExecuteTime": {
     "end_time": "2024-04-25T12:05:30.321519Z",
     "start_time": "2024-04-25T12:05:30.318973Z"
    }
   },
   "id": "91cf22d9c2a5b14",
   "execution_count": 2
  }
 ],
 "metadata": {
  "kernelspec": {
   "display_name": "Python 3",
   "language": "python",
   "name": "python3"
  },
  "language_info": {
   "codemirror_mode": {
    "name": "ipython",
    "version": 2
   },
   "file_extension": ".py",
   "mimetype": "text/x-python",
   "name": "python",
   "nbconvert_exporter": "python",
   "pygments_lexer": "ipython2",
   "version": "2.7.6"
  }
 },
 "nbformat": 4,
 "nbformat_minor": 5
}
