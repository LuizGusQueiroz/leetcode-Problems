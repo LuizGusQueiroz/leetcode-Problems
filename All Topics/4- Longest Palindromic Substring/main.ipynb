{
 "cells": [
  {
   "cell_type": "code",
   "execution_count": 1,
   "id": "initial_id",
   "metadata": {
    "collapsed": true,
    "ExecuteTime": {
     "end_time": "2024-04-24T19:20:07.297313Z",
     "start_time": "2024-04-24T19:20:07.256058Z"
    }
   },
   "outputs": [],
   "source": [
    "class Solution:\n",
    "    def longestPalindrome(self, s: str) -> str:\n",
    "        for size in range(len(s), 0, -1):\n",
    "            for i in range(len(s)-size+1):\n",
    "                palindromo = True\n",
    "                st = i\n",
    "                en = i+size-1\n",
    "                while st <= en:\n",
    "                    if s[st] != s[en]:\n",
    "                        palindromo = False\n",
    "                        break\n",
    "                    st += 1\n",
    "                    en -= 1\n",
    "                if palindromo:\n",
    "                    return s[i:i+size]\n",
    "        return ''\n",
    "        \n",
    "                "
   ]
  },
  {
   "cell_type": "code",
   "outputs": [],
   "source": [],
   "metadata": {
    "collapsed": false
   },
   "id": "9220fb42d026cda0",
   "execution_count": 2
  }
 ],
 "metadata": {
  "kernelspec": {
   "display_name": "Python 3",
   "language": "python",
   "name": "python3"
  },
  "language_info": {
   "codemirror_mode": {
    "name": "ipython",
    "version": 2
   },
   "file_extension": ".py",
   "mimetype": "text/x-python",
   "name": "python",
   "nbconvert_exporter": "python",
   "pygments_lexer": "ipython2",
   "version": "2.7.6"
  }
 },
 "nbformat": 4,
 "nbformat_minor": 5
}
